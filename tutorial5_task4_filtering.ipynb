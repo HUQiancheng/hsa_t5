{
 "cells": [
  {
   "cell_type": "markdown",
   "id": "7cfc0dd7",
   "metadata": {},
   "source": [
    "# Task 4: Signal Filtering\n",
    "\n",
    "---\n",
    "\n",
    "## Imports & Setup"
   ]
  },
  {
   "cell_type": "code",
   "execution_count": null,
   "id": "7fed84a5",
   "metadata": {
    "vscode": {
     "languageId": "plaintext"
    }
   },
   "outputs": [],
   "source": [
    "import os\n",
    "import sys\n",
    "from pathlib import Path\n",
    "import numpy as np\n",
    "from matplotlib import pyplot as plt\n",
    "\n",
    "# Ensure imports work correctly\n",
    "sys.path.insert(0, str(Path().resolve().parents[1]))\n",
    "\n",
    "from src.signal_generation import sum_sine_waves\n",
    "from src.filter_design import (\n",
    "    butter_lowpass,\n",
    "    butter_highpass,\n",
    "    butter_bandpass,\n",
    "    apply_filter,\n",
    "    rc_lowpass,\n",
    "    rc_highpass,\n",
    "    rc_bandpass,\n",
    ")"
   ]
  },
  {
   "cell_type": "markdown",
   "id": "b69f3acc",
   "metadata": {},
   "source": [
    "\n",
    "---\n",
    "\n",
    "## T.4.1 – Create signal with two sine waves"
   ]
  },
  {
   "cell_type": "code",
   "execution_count": null,
   "id": "2d36b724",
   "metadata": {
    "vscode": {
     "languageId": "plaintext"
    }
   },
   "outputs": [],
   "source": [
    "fs = 10000            # Sampling frequency [Hz]\n",
    "duration = 0.1        # Duration [s]\n",
    "components = [(50, 1.0), (500, 0.5)]  # (frequency [Hz], amplitude)\n",
    "\n",
    "t, signal = sum_sine_waves(components, fs, duration)"
   ]
  },
  {
   "cell_type": "markdown",
   "id": "52814af0",
   "metadata": {},
   "source": [
    "---\n",
    "\n",
    "## T.4.2 – Plot the original signal (0.1 s)\n"
   ]
  },
  {
   "cell_type": "code",
   "execution_count": null,
   "id": "66d57343",
   "metadata": {
    "vscode": {
     "languageId": "plaintext"
    }
   },
   "outputs": [],
   "source": [
    "plt.figure()\n",
    "plt.plot(t, signal)\n",
    "plt.xlabel(\"Time [s]\")\n",
    "plt.title(\"Original signal\")\n",
    "plt.show()"
   ]
  },
  {
   "cell_type": "markdown",
   "id": "5bfa00a0",
   "metadata": {},
   "source": [
    "---\n",
    "\n",
    "## T.4.3 – Design analog RC low-pass filter (50 Hz)\n"
   ]
  },
  {
   "cell_type": "code",
   "execution_count": null,
   "id": "3044c3ee",
   "metadata": {
    "vscode": {
     "languageId": "plaintext"
    }
   },
   "outputs": [],
   "source": [
    "r_lp, c_lp = rc_lowpass(50)\n",
    "print(f\"RC low-pass: R={r_lp:.1f} Ohm, C={c_lp:.2e} F\")"
   ]
  },
  {
   "cell_type": "markdown",
   "id": "b4af051b",
   "metadata": {},
   "source": [
    "---\n",
    "\n",
    "## T.4.4 – Design first-order discrete low-pass filter (50 Hz)"
   ]
  },
  {
   "cell_type": "code",
   "execution_count": null,
   "id": "81da8049",
   "metadata": {
    "vscode": {
     "languageId": "plaintext"
    }
   },
   "outputs": [],
   "source": [
    "b_lp, a_lp = butter_lowpass(50, fs, order=1)"
   ]
  },
  {
   "cell_type": "markdown",
   "id": "4c8c4f2a",
   "metadata": {},
   "source": [
    "## T.4.5 – Apply discrete low-pass filter and plot result"
   ]
  },
  {
   "cell_type": "code",
   "execution_count": null,
   "id": "a14d5f6e",
   "metadata": {
    "vscode": {
     "languageId": "plaintext"
    }
   },
   "outputs": [],
   "source": [
    "filtered_lp = apply_filter(signal, b_lp, a_lp)\n",
    "\n",
    "plt.figure()\n",
    "plt.plot(t, filtered_lp)\n",
    "plt.xlabel(\"Time [s]\")\n",
    "plt.title(\"Low-pass filtered\")\n",
    "plt.show()"
   ]
  },
  {
   "cell_type": "markdown",
   "id": "f45c3652",
   "metadata": {},
   "source": [
    "---\n",
    "\n",
    "## T.4.6 – Design analog RC high-pass filter (500 Hz)"
   ]
  },
  {
   "cell_type": "code",
   "execution_count": null,
   "id": "8f330f51",
   "metadata": {
    "vscode": {
     "languageId": "plaintext"
    }
   },
   "outputs": [],
   "source": [
    "r_hp, c_hp = rc_highpass(500)\n",
    "print(f\"RC high-pass: R={r_hp:.1f} Ohm, C={c_hp:.2e} F\")"
   ]
  },
  {
   "cell_type": "markdown",
   "id": "465f1f3b",
   "metadata": {},
   "source": [
    "---\n",
    "\n",
    "## T.4.7 – Design first-order discrete high-pass filter (500 Hz)\n"
   ]
  },
  {
   "cell_type": "code",
   "execution_count": null,
   "id": "ed950573",
   "metadata": {
    "vscode": {
     "languageId": "plaintext"
    }
   },
   "outputs": [],
   "source": [
    "b_hp, a_hp = butter_highpass(500, fs, order=1)"
   ]
  },
  {
   "cell_type": "markdown",
   "id": "bee2bef7",
   "metadata": {},
   "source": [
    "---\n",
    "\n",
    "## T.4.8 – Apply discrete high-pass filter and plot result"
   ]
  },
  {
   "cell_type": "code",
   "execution_count": null,
   "id": "40299b72",
   "metadata": {
    "vscode": {
     "languageId": "plaintext"
    }
   },
   "outputs": [],
   "source": [
    "filtered_hp = apply_filter(signal, b_hp, a_hp)\n",
    "\n",
    "plt.figure()\n",
    "plt.plot(t, filtered_hp)\n",
    "plt.xlabel(\"Time [s]\")\n",
    "plt.title(\"High-pass filtered\")\n",
    "plt.show()"
   ]
  },
  {
   "cell_type": "markdown",
   "id": "5f7a8d4d",
   "metadata": {},
   "source": [
    "---\n",
    "\n",
    "## T.4.9 – Create three-sine composite (50 Hz + 500 Hz + 1000 Hz) and plot"
   ]
  },
  {
   "cell_type": "code",
   "execution_count": null,
   "id": "0b2242db",
   "metadata": {
    "vscode": {
     "languageId": "plaintext"
    }
   },
   "outputs": [],
   "source": [
    "_, sig1000 = sum_sine_waves([(1000, 1.0)], fs, duration)\n",
    "composite = signal + sig1000\n",
    "\n",
    "plt.figure()\n",
    "plt.plot(t, composite)\n",
    "plt.xlabel(\"Time [s]\")\n",
    "plt.title(\"Three-sine composite\")\n",
    "plt.show()"
   ]
  },
  {
   "cell_type": "markdown",
   "id": "206fe700",
   "metadata": {},
   "source": [
    "---\n",
    "\n",
    "## T.4.10 – Design analog RC band-pass filter (400-600 Hz)"
   ]
  },
  {
   "cell_type": "code",
   "execution_count": null,
   "id": "292d1e91",
   "metadata": {
    "vscode": {
     "languageId": "plaintext"
    }
   },
   "outputs": [],
   "source": [
    "rbp, cbp = rc_bandpass(400, 600)\n",
    "print(f\"RC band-pass (400-600 Hz): R={rbp:.1f} Ohm, C={cbp:.2e} F\")"
   ]
  },
  {
   "cell_type": "markdown",
   "id": "c6bba508",
   "metadata": {},
   "source": [
    "---\n",
    "\n",
    "## T.4.11 – Design discrete band-pass filter (400-600 Hz)"
   ]
  },
  {
   "cell_type": "code",
   "execution_count": null,
   "id": "fe0fc109",
   "metadata": {
    "vscode": {
     "languageId": "plaintext"
    }
   },
   "outputs": [],
   "source": [
    "b_bp, a_bp = butter_bandpass(400, 600, fs, order=1)"
   ]
  },
  {
   "cell_type": "markdown",
   "id": "f51be9c9",
   "metadata": {},
   "source": [
    "## T.4.12 – Apply discrete band-pass filter and plot result"
   ]
  },
  {
   "cell_type": "code",
   "execution_count": null,
   "id": "7bc9f268",
   "metadata": {
    "vscode": {
     "languageId": "plaintext"
    }
   },
   "outputs": [],
   "source": [
    "filtered_bp = apply_filter(composite, b_bp, a_bp)\n",
    "\n",
    "plt.figure()\n",
    "plt.plot(t, filtered_bp)\n",
    "plt.xlabel(\"Time [s]\")\n",
    "plt.title(\"Band-pass filtered\")\n",
    "plt.show()"
   ]
  }
 ],
 "metadata": {
  "language_info": {
   "name": "python"
  }
 },
 "nbformat": 4,
 "nbformat_minor": 5
}
